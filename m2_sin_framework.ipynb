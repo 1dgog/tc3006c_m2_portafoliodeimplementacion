{
  "cells": [
    {
      "cell_type": "markdown",
      "metadata": {
        "id": "view-in-github",
        "colab_type": "text"
      },
      "source": [
        "<a href=\"https://colab.research.google.com/github/1dgog/tc3006c_m2_portafoliodeimplementacion/blob/main/m2_sin_framework.ipynb\" target=\"_parent\"><img src=\"https://colab.research.google.com/assets/colab-badge.svg\" alt=\"Open In Colab\"/></a>"
      ]
    },
    {
      "cell_type": "markdown",
      "metadata": {
        "id": "8w9EngEQ2qQF"
      },
      "source": [
        "# Módulo 2 Implementación de una técnica de aprendizaje máquina sin el uso de un framework"
      ]
    },
    {
      "cell_type": "markdown",
      "source": [
        "## Conexión con google drive"
      ],
      "metadata": {
        "id": "x_-YBCf5V7FM"
      }
    },
    {
      "cell_type": "code",
      "execution_count": 1,
      "metadata": {
        "id": "B4pAgvZQ0rDS"
      },
      "outputs": [],
      "source": [
        "%%capture\n",
        "from google.colab import drive\n",
        "drive.mount(\"/content/gdrive\")\n",
        "!pwd\n",
        "#put your own path in google drive\n",
        "%cd \"/content/gdrive/MyDrive\" \n",
        "!ls"
      ]
    },
    {
      "cell_type": "markdown",
      "metadata": {
        "id": "kt2KlOOg0SDl"
      },
      "source": [
        "## Librerías\n",
        "\n",
        "Se importan las librerías necesarias. sklearn solo se usa para hacer la división de datos de entrenamiento y prueba, y la matriz de confusión"
      ]
    },
    {
      "cell_type": "code",
      "execution_count": 2,
      "metadata": {
        "id": "96psNgD5z48b"
      },
      "outputs": [],
      "source": [
        "import pandas as pd\n",
        "import numpy as np\n",
        "from matplotlib import pyplot as plt\n",
        "import seaborn as sns\n",
        "import math\n",
        "from sklearn.metrics import classification_report\n",
        "from sklearn.model_selection import train_test_split\n",
        "from sklearn.metrics import confusion_matrix\n",
        "from google.colab import files"
      ]
    },
    {
      "cell_type": "markdown",
      "metadata": {
        "id": "OJG3dk9z0Rsy"
      },
      "source": [
        "## Importacion de datos y columnas dummy\n",
        "\n",
        "Se importa el CSV, se da nombre a las columnas, se forman columnas binarias dependiendo de clase (\"index\")."
      ]
    },
    {
      "cell_type": "code",
      "execution_count": 3,
      "metadata": {
        "id": "n6y-jbbF0cSc"
      },
      "outputs": [],
      "source": [
        "columns = [\"alcohol\",\"malic_acid\",\"ash\",\"alcalinity_of_ash\", \"magnesium\",\"total_phenols\",\"flavanoids\",\"nonflavanoid_phenols\",\"proanthocyanins\",\"color_intensity\",\"hue\",\"od280\",\"proline\"] # definir nombres de columna manualmente\n",
        "df = pd.read_csv('wine.data',names = columns) # abrir el archivo de datos con los nombres dados para las columnas\n",
        "df = df.reset_index() # se añade un nuevo indice para que el indice previo sea una clasificación que se usara en la siguiente figura.\n",
        "df[\"clase1\"] = df[\"index\"]==1\n",
        "df[\"clase1\"] = df[\"clase1\"].astype(int)\n",
        "df[\"clase2\"] = df[\"index\"]==2\n",
        "df[\"clase2\"] = df[\"clase2\"].astype(int)\n",
        "df[\"clase3\"] = df[\"index\"]==3\n",
        "df[\"clase3\"] = df[\"clase3\"].astype(int)"
      ]
    },
    {
      "cell_type": "code",
      "source": [
        "df"
      ],
      "metadata": {
        "colab": {
          "base_uri": "https://localhost:8080/",
          "height": 488
        },
        "id": "UqSOeZS4awxM",
        "outputId": "33874c6a-b1b3-415e-b360-bb55cd11ea3d"
      },
      "execution_count": 4,
      "outputs": [
        {
          "output_type": "execute_result",
          "data": {
            "text/plain": [
              "     index  alcohol  malic_acid   ash  alcalinity_of_ash  magnesium  \\\n",
              "0        1    14.23        1.71  2.43               15.6        127   \n",
              "1        1    13.20        1.78  2.14               11.2        100   \n",
              "2        1    13.16        2.36  2.67               18.6        101   \n",
              "3        1    14.37        1.95  2.50               16.8        113   \n",
              "4        1    13.24        2.59  2.87               21.0        118   \n",
              "..     ...      ...         ...   ...                ...        ...   \n",
              "173      3    13.71        5.65  2.45               20.5         95   \n",
              "174      3    13.40        3.91  2.48               23.0        102   \n",
              "175      3    13.27        4.28  2.26               20.0        120   \n",
              "176      3    13.17        2.59  2.37               20.0        120   \n",
              "177      3    14.13        4.10  2.74               24.5         96   \n",
              "\n",
              "     total_phenols  flavanoids  nonflavanoid_phenols  proanthocyanins  \\\n",
              "0             2.80        3.06                  0.28             2.29   \n",
              "1             2.65        2.76                  0.26             1.28   \n",
              "2             2.80        3.24                  0.30             2.81   \n",
              "3             3.85        3.49                  0.24             2.18   \n",
              "4             2.80        2.69                  0.39             1.82   \n",
              "..             ...         ...                   ...              ...   \n",
              "173           1.68        0.61                  0.52             1.06   \n",
              "174           1.80        0.75                  0.43             1.41   \n",
              "175           1.59        0.69                  0.43             1.35   \n",
              "176           1.65        0.68                  0.53             1.46   \n",
              "177           2.05        0.76                  0.56             1.35   \n",
              "\n",
              "     color_intensity   hue  od280  proline  clase1  clase2  clase3  \n",
              "0               5.64  1.04   3.92     1065       1       0       0  \n",
              "1               4.38  1.05   3.40     1050       1       0       0  \n",
              "2               5.68  1.03   3.17     1185       1       0       0  \n",
              "3               7.80  0.86   3.45     1480       1       0       0  \n",
              "4               4.32  1.04   2.93      735       1       0       0  \n",
              "..               ...   ...    ...      ...     ...     ...     ...  \n",
              "173             7.70  0.64   1.74      740       0       0       1  \n",
              "174             7.30  0.70   1.56      750       0       0       1  \n",
              "175            10.20  0.59   1.56      835       0       0       1  \n",
              "176             9.30  0.60   1.62      840       0       0       1  \n",
              "177             9.20  0.61   1.60      560       0       0       1  \n",
              "\n",
              "[178 rows x 17 columns]"
            ],
            "text/html": [
              "\n",
              "  <div id=\"df-6337d5ed-0390-47a1-a321-a786bb5723ea\">\n",
              "    <div class=\"colab-df-container\">\n",
              "      <div>\n",
              "<style scoped>\n",
              "    .dataframe tbody tr th:only-of-type {\n",
              "        vertical-align: middle;\n",
              "    }\n",
              "\n",
              "    .dataframe tbody tr th {\n",
              "        vertical-align: top;\n",
              "    }\n",
              "\n",
              "    .dataframe thead th {\n",
              "        text-align: right;\n",
              "    }\n",
              "</style>\n",
              "<table border=\"1\" class=\"dataframe\">\n",
              "  <thead>\n",
              "    <tr style=\"text-align: right;\">\n",
              "      <th></th>\n",
              "      <th>index</th>\n",
              "      <th>alcohol</th>\n",
              "      <th>malic_acid</th>\n",
              "      <th>ash</th>\n",
              "      <th>alcalinity_of_ash</th>\n",
              "      <th>magnesium</th>\n",
              "      <th>total_phenols</th>\n",
              "      <th>flavanoids</th>\n",
              "      <th>nonflavanoid_phenols</th>\n",
              "      <th>proanthocyanins</th>\n",
              "      <th>color_intensity</th>\n",
              "      <th>hue</th>\n",
              "      <th>od280</th>\n",
              "      <th>proline</th>\n",
              "      <th>clase1</th>\n",
              "      <th>clase2</th>\n",
              "      <th>clase3</th>\n",
              "    </tr>\n",
              "  </thead>\n",
              "  <tbody>\n",
              "    <tr>\n",
              "      <th>0</th>\n",
              "      <td>1</td>\n",
              "      <td>14.23</td>\n",
              "      <td>1.71</td>\n",
              "      <td>2.43</td>\n",
              "      <td>15.6</td>\n",
              "      <td>127</td>\n",
              "      <td>2.80</td>\n",
              "      <td>3.06</td>\n",
              "      <td>0.28</td>\n",
              "      <td>2.29</td>\n",
              "      <td>5.64</td>\n",
              "      <td>1.04</td>\n",
              "      <td>3.92</td>\n",
              "      <td>1065</td>\n",
              "      <td>1</td>\n",
              "      <td>0</td>\n",
              "      <td>0</td>\n",
              "    </tr>\n",
              "    <tr>\n",
              "      <th>1</th>\n",
              "      <td>1</td>\n",
              "      <td>13.20</td>\n",
              "      <td>1.78</td>\n",
              "      <td>2.14</td>\n",
              "      <td>11.2</td>\n",
              "      <td>100</td>\n",
              "      <td>2.65</td>\n",
              "      <td>2.76</td>\n",
              "      <td>0.26</td>\n",
              "      <td>1.28</td>\n",
              "      <td>4.38</td>\n",
              "      <td>1.05</td>\n",
              "      <td>3.40</td>\n",
              "      <td>1050</td>\n",
              "      <td>1</td>\n",
              "      <td>0</td>\n",
              "      <td>0</td>\n",
              "    </tr>\n",
              "    <tr>\n",
              "      <th>2</th>\n",
              "      <td>1</td>\n",
              "      <td>13.16</td>\n",
              "      <td>2.36</td>\n",
              "      <td>2.67</td>\n",
              "      <td>18.6</td>\n",
              "      <td>101</td>\n",
              "      <td>2.80</td>\n",
              "      <td>3.24</td>\n",
              "      <td>0.30</td>\n",
              "      <td>2.81</td>\n",
              "      <td>5.68</td>\n",
              "      <td>1.03</td>\n",
              "      <td>3.17</td>\n",
              "      <td>1185</td>\n",
              "      <td>1</td>\n",
              "      <td>0</td>\n",
              "      <td>0</td>\n",
              "    </tr>\n",
              "    <tr>\n",
              "      <th>3</th>\n",
              "      <td>1</td>\n",
              "      <td>14.37</td>\n",
              "      <td>1.95</td>\n",
              "      <td>2.50</td>\n",
              "      <td>16.8</td>\n",
              "      <td>113</td>\n",
              "      <td>3.85</td>\n",
              "      <td>3.49</td>\n",
              "      <td>0.24</td>\n",
              "      <td>2.18</td>\n",
              "      <td>7.80</td>\n",
              "      <td>0.86</td>\n",
              "      <td>3.45</td>\n",
              "      <td>1480</td>\n",
              "      <td>1</td>\n",
              "      <td>0</td>\n",
              "      <td>0</td>\n",
              "    </tr>\n",
              "    <tr>\n",
              "      <th>4</th>\n",
              "      <td>1</td>\n",
              "      <td>13.24</td>\n",
              "      <td>2.59</td>\n",
              "      <td>2.87</td>\n",
              "      <td>21.0</td>\n",
              "      <td>118</td>\n",
              "      <td>2.80</td>\n",
              "      <td>2.69</td>\n",
              "      <td>0.39</td>\n",
              "      <td>1.82</td>\n",
              "      <td>4.32</td>\n",
              "      <td>1.04</td>\n",
              "      <td>2.93</td>\n",
              "      <td>735</td>\n",
              "      <td>1</td>\n",
              "      <td>0</td>\n",
              "      <td>0</td>\n",
              "    </tr>\n",
              "    <tr>\n",
              "      <th>...</th>\n",
              "      <td>...</td>\n",
              "      <td>...</td>\n",
              "      <td>...</td>\n",
              "      <td>...</td>\n",
              "      <td>...</td>\n",
              "      <td>...</td>\n",
              "      <td>...</td>\n",
              "      <td>...</td>\n",
              "      <td>...</td>\n",
              "      <td>...</td>\n",
              "      <td>...</td>\n",
              "      <td>...</td>\n",
              "      <td>...</td>\n",
              "      <td>...</td>\n",
              "      <td>...</td>\n",
              "      <td>...</td>\n",
              "      <td>...</td>\n",
              "    </tr>\n",
              "    <tr>\n",
              "      <th>173</th>\n",
              "      <td>3</td>\n",
              "      <td>13.71</td>\n",
              "      <td>5.65</td>\n",
              "      <td>2.45</td>\n",
              "      <td>20.5</td>\n",
              "      <td>95</td>\n",
              "      <td>1.68</td>\n",
              "      <td>0.61</td>\n",
              "      <td>0.52</td>\n",
              "      <td>1.06</td>\n",
              "      <td>7.70</td>\n",
              "      <td>0.64</td>\n",
              "      <td>1.74</td>\n",
              "      <td>740</td>\n",
              "      <td>0</td>\n",
              "      <td>0</td>\n",
              "      <td>1</td>\n",
              "    </tr>\n",
              "    <tr>\n",
              "      <th>174</th>\n",
              "      <td>3</td>\n",
              "      <td>13.40</td>\n",
              "      <td>3.91</td>\n",
              "      <td>2.48</td>\n",
              "      <td>23.0</td>\n",
              "      <td>102</td>\n",
              "      <td>1.80</td>\n",
              "      <td>0.75</td>\n",
              "      <td>0.43</td>\n",
              "      <td>1.41</td>\n",
              "      <td>7.30</td>\n",
              "      <td>0.70</td>\n",
              "      <td>1.56</td>\n",
              "      <td>750</td>\n",
              "      <td>0</td>\n",
              "      <td>0</td>\n",
              "      <td>1</td>\n",
              "    </tr>\n",
              "    <tr>\n",
              "      <th>175</th>\n",
              "      <td>3</td>\n",
              "      <td>13.27</td>\n",
              "      <td>4.28</td>\n",
              "      <td>2.26</td>\n",
              "      <td>20.0</td>\n",
              "      <td>120</td>\n",
              "      <td>1.59</td>\n",
              "      <td>0.69</td>\n",
              "      <td>0.43</td>\n",
              "      <td>1.35</td>\n",
              "      <td>10.20</td>\n",
              "      <td>0.59</td>\n",
              "      <td>1.56</td>\n",
              "      <td>835</td>\n",
              "      <td>0</td>\n",
              "      <td>0</td>\n",
              "      <td>1</td>\n",
              "    </tr>\n",
              "    <tr>\n",
              "      <th>176</th>\n",
              "      <td>3</td>\n",
              "      <td>13.17</td>\n",
              "      <td>2.59</td>\n",
              "      <td>2.37</td>\n",
              "      <td>20.0</td>\n",
              "      <td>120</td>\n",
              "      <td>1.65</td>\n",
              "      <td>0.68</td>\n",
              "      <td>0.53</td>\n",
              "      <td>1.46</td>\n",
              "      <td>9.30</td>\n",
              "      <td>0.60</td>\n",
              "      <td>1.62</td>\n",
              "      <td>840</td>\n",
              "      <td>0</td>\n",
              "      <td>0</td>\n",
              "      <td>1</td>\n",
              "    </tr>\n",
              "    <tr>\n",
              "      <th>177</th>\n",
              "      <td>3</td>\n",
              "      <td>14.13</td>\n",
              "      <td>4.10</td>\n",
              "      <td>2.74</td>\n",
              "      <td>24.5</td>\n",
              "      <td>96</td>\n",
              "      <td>2.05</td>\n",
              "      <td>0.76</td>\n",
              "      <td>0.56</td>\n",
              "      <td>1.35</td>\n",
              "      <td>9.20</td>\n",
              "      <td>0.61</td>\n",
              "      <td>1.60</td>\n",
              "      <td>560</td>\n",
              "      <td>0</td>\n",
              "      <td>0</td>\n",
              "      <td>1</td>\n",
              "    </tr>\n",
              "  </tbody>\n",
              "</table>\n",
              "<p>178 rows × 17 columns</p>\n",
              "</div>\n",
              "      <button class=\"colab-df-convert\" onclick=\"convertToInteractive('df-6337d5ed-0390-47a1-a321-a786bb5723ea')\"\n",
              "              title=\"Convert this dataframe to an interactive table.\"\n",
              "              style=\"display:none;\">\n",
              "        \n",
              "  <svg xmlns=\"http://www.w3.org/2000/svg\" height=\"24px\"viewBox=\"0 0 24 24\"\n",
              "       width=\"24px\">\n",
              "    <path d=\"M0 0h24v24H0V0z\" fill=\"none\"/>\n",
              "    <path d=\"M18.56 5.44l.94 2.06.94-2.06 2.06-.94-2.06-.94-.94-2.06-.94 2.06-2.06.94zm-11 1L8.5 8.5l.94-2.06 2.06-.94-2.06-.94L8.5 2.5l-.94 2.06-2.06.94zm10 10l.94 2.06.94-2.06 2.06-.94-2.06-.94-.94-2.06-.94 2.06-2.06.94z\"/><path d=\"M17.41 7.96l-1.37-1.37c-.4-.4-.92-.59-1.43-.59-.52 0-1.04.2-1.43.59L10.3 9.45l-7.72 7.72c-.78.78-.78 2.05 0 2.83L4 21.41c.39.39.9.59 1.41.59.51 0 1.02-.2 1.41-.59l7.78-7.78 2.81-2.81c.8-.78.8-2.07 0-2.86zM5.41 20L4 18.59l7.72-7.72 1.47 1.35L5.41 20z\"/>\n",
              "  </svg>\n",
              "      </button>\n",
              "      \n",
              "  <style>\n",
              "    .colab-df-container {\n",
              "      display:flex;\n",
              "      flex-wrap:wrap;\n",
              "      gap: 12px;\n",
              "    }\n",
              "\n",
              "    .colab-df-convert {\n",
              "      background-color: #E8F0FE;\n",
              "      border: none;\n",
              "      border-radius: 50%;\n",
              "      cursor: pointer;\n",
              "      display: none;\n",
              "      fill: #1967D2;\n",
              "      height: 32px;\n",
              "      padding: 0 0 0 0;\n",
              "      width: 32px;\n",
              "    }\n",
              "\n",
              "    .colab-df-convert:hover {\n",
              "      background-color: #E2EBFA;\n",
              "      box-shadow: 0px 1px 2px rgba(60, 64, 67, 0.3), 0px 1px 3px 1px rgba(60, 64, 67, 0.15);\n",
              "      fill: #174EA6;\n",
              "    }\n",
              "\n",
              "    [theme=dark] .colab-df-convert {\n",
              "      background-color: #3B4455;\n",
              "      fill: #D2E3FC;\n",
              "    }\n",
              "\n",
              "    [theme=dark] .colab-df-convert:hover {\n",
              "      background-color: #434B5C;\n",
              "      box-shadow: 0px 1px 3px 1px rgba(0, 0, 0, 0.15);\n",
              "      filter: drop-shadow(0px 1px 2px rgba(0, 0, 0, 0.3));\n",
              "      fill: #FFFFFF;\n",
              "    }\n",
              "  </style>\n",
              "\n",
              "      <script>\n",
              "        const buttonEl =\n",
              "          document.querySelector('#df-6337d5ed-0390-47a1-a321-a786bb5723ea button.colab-df-convert');\n",
              "        buttonEl.style.display =\n",
              "          google.colab.kernel.accessAllowed ? 'block' : 'none';\n",
              "\n",
              "        async function convertToInteractive(key) {\n",
              "          const element = document.querySelector('#df-6337d5ed-0390-47a1-a321-a786bb5723ea');\n",
              "          const dataTable =\n",
              "            await google.colab.kernel.invokeFunction('convertToInteractive',\n",
              "                                                     [key], {});\n",
              "          if (!dataTable) return;\n",
              "\n",
              "          const docLinkHtml = 'Like what you see? Visit the ' +\n",
              "            '<a target=\"_blank\" href=https://colab.research.google.com/notebooks/data_table.ipynb>data table notebook</a>'\n",
              "            + ' to learn more about interactive tables.';\n",
              "          element.innerHTML = '';\n",
              "          dataTable['output_type'] = 'display_data';\n",
              "          await google.colab.output.renderOutput(dataTable, element);\n",
              "          const docLink = document.createElement('div');\n",
              "          docLink.innerHTML = docLinkHtml;\n",
              "          element.appendChild(docLink);\n",
              "        }\n",
              "      </script>\n",
              "    </div>\n",
              "  </div>\n",
              "  "
            ]
          },
          "metadata": {},
          "execution_count": 4
        }
      ]
    },
    {
      "cell_type": "markdown",
      "metadata": {
        "id": "ur089gEL_GRb"
      },
      "source": [
        "## Visualización binaria de datos."
      ]
    },
    {
      "cell_type": "code",
      "execution_count": 5,
      "metadata": {
        "colab": {
          "base_uri": "https://localhost:8080/",
          "height": 1000
        },
        "id": "P7sPbW_D_G6M",
        "outputId": "da7c76fe-a8fc-40fa-e09c-065f7e7ba2e6"
      },
      "outputs": [
        {
          "output_type": "display_data",
          "data": {
            "text/plain": [
              "<Figure size 503.175x576 with 1 Axes>"
            ],
            "image/png": "[encoded data removed]"
          },
          "metadata": {
            "needs_background": "light"
          }
        },
        {
          "output_type": "display_data",
          "data": {
            "text/plain": [
              "<Figure size 503.175x576 with 1 Axes>"
            ],
            "image/png": "[encoded data removed]"
          },
          "metadata": {
            "needs_background": "light"
          }
        },
        {
          "output_type": "display_data",
          "data": {
            "text/plain": [
              "<Figure size 503.175x576 with 1 Axes>"
            ],
            "image/png": "[encoded data removed]"
          },
          "metadata": {
            "needs_background": "light"
          }
        }
      ],
      "source": [
        "sns.lmplot(x='malic_acid',\n",
        "           y='clase1',\n",
        "           height=8,\n",
        "           aspect=.8,\n",
        "           data = df,\n",
        "           fit_reg=False, \n",
        "           hue='clase1', \n",
        "           legend=True)\n",
        "plt.title(\"Visualización binaria para clase 1\")\n",
        "plt.show()\n",
        "\n",
        "sns.lmplot(x='malic_acid',\n",
        "           y='clase2',\n",
        "           height=8,\n",
        "           aspect=.8,\n",
        "           data = df,\n",
        "           fit_reg=False, \n",
        "           hue='clase2', \n",
        "           legend=True)\n",
        "plt.title(\"Visualización binaria para clase 1\")\n",
        "plt.show()\n",
        "\n",
        "sns.lmplot(x='malic_acid',\n",
        "           y='clase3',\n",
        "           height=8,\n",
        "           aspect=.8,\n",
        "           data = df,\n",
        "           fit_reg=False, \n",
        "           hue='clase3', \n",
        "           legend=True)\n",
        "plt.title(\"Visualización binaria para clase 1\")\n",
        "plt.show()"
      ]
    },
    {
      "cell_type": "markdown",
      "source": [
        "## Clasificación\n",
        "\n",
        "Se hace una función que considere dos características."
      ],
      "metadata": {
        "id": "ssAF_ypkGrk3"
      }
    },
    {
      "cell_type": "markdown",
      "source": [
        "### Función de clasificación"
      ],
      "metadata": {
        "id": "5VVV0p3LiJbu"
      }
    },
    {
      "cell_type": "code",
      "source": [
        "def funcion_de_clasificacion2(x_train, x_valid, y_train, y_valid, x2_train, x2_valid, y2_train, y2_valid):\n",
        "  \n",
        "  # se hace una regresión logistica de orden 2\n",
        "\n",
        "  h   = lambda x,theta,x2: 1/(1+np.exp(-(theta[0]+theta[1]*x+theta[2]*x2)))\n",
        "  j_i = lambda x,y,theta,x2: y*np.log(h(x,theta,x2))+(1-y)*math.log(1-h(x,theta,x2))\n",
        "  \n",
        "  alpha = 0.05 ## es una proporcion de cuanto se mueve de acuerdo al error, porque era muy pequeño no se estaba moviendo prácticamente nada.\n",
        "\n",
        "  n = len(y_train)\n",
        "\n",
        "  theta = [2,1,0.5] # theta inicial\n",
        "  print(\"theta inicial \\n\",theta)\n",
        "\n",
        "  n_train = len(y_train)\n",
        "  for idx in range(10000): ## Para mejorar aumentar el número de iteraciones\n",
        "    acumDelta = []\n",
        "    acumDeltaX = []\n",
        "    acumDeltaX2 = []\n",
        "    for x_i, y_i,x2_i in zip(x_train,y_train,x2_train):\n",
        "      acumDelta.append(h(x_i,theta,x2_i)-y_i)\n",
        "      acumDeltaX.append((h(x_i,theta,x2_i)-y_i)*x_i)\n",
        "      acumDeltaX2.append((h(x_i,theta,x2_i)-y_i)*x2_i) # Acumular para el nuevo theta\n",
        "      \n",
        "    sJt0 = sum(acumDelta)\n",
        "    sJt1 = sum(acumDeltaX)\n",
        "    sJt2 = sum(acumDeltaX2)\n",
        "    theta[0] = theta[0]-alpha/n*sJt0\n",
        "    theta[1] = theta[1]-alpha/n*sJt1\n",
        "    theta[2] = theta[2]-alpha/n_train*sJt2\n",
        "  \n",
        "  n_validate = len(y_valid)\n",
        "\n",
        "  # Validación\n",
        "\n",
        "  acumDelta = []\n",
        "  for x_i, y_i,x2_i in zip(x_valid,y_valid,x2_valid):\n",
        "    acumDelta.append(j_i(x_i,y_i,theta,x2_i))  \n",
        "\n",
        "  sDelta = sum(acumDelta)\n",
        "  J_validate = 1/(2*n_validate)*sDelta\n",
        "\n",
        "  # Training\n",
        "  \n",
        "  acumDelta = []\n",
        "  for x_i, y_i,x2_i in zip(x_train,y_train,x2_train):\n",
        "    acumDelta.append(j_i(x_i,y_i,theta,x2_i)) \n",
        "\n",
        "  sDelta = sum(acumDelta)\n",
        "  J_train = 1/(2*n_train)*sDelta\n",
        "\n",
        "  print(\"J valid\\n\", J_validate)\n",
        "  print(\"J entrenamiento \\n\",J_train)\n",
        "  print(\"theta \\n\",theta)\n",
        "\n",
        "  return theta"
      ],
      "metadata": {
        "id": "rQShcNmQKyUo"
      },
      "execution_count": 38,
      "outputs": []
    },
    {
      "cell_type": "markdown",
      "metadata": {
        "id": "tS8ALwcz-t2t"
      },
      "source": [
        "### Separación en subconjuntos y llamada a función de de clasificación\n",
        "\n",
        "Se hace la división entre datos de entrenamiento, validación y prueba."
      ]
    },
    {
      "cell_type": "code",
      "source": [
        "print('-------------CLASE 1-----------------')\n",
        "\n",
        "x_train1_a, x_r_a, y_train1_a, y_r_a = train_test_split(df[\"alcohol\"], df['clase1'], test_size=0.33, random_state=0) ## el random state es semilla, se tomarán los mismos indices\n",
        "x_valid1_a, x_test1_a, y_valid1_a, y_test1_a = train_test_split(x_r_a, y_r_a, random_state=0)\n",
        "x_train1_b, x_r_b, y_train1_b, y_r_b = train_test_split(df[\"flavanoids\"], df['clase1'], test_size=0.33, random_state=0)\n",
        "x_valid1_b, x_test1_b, y_valid1_b, y_test1_b = train_test_split(x_r_b, y_r_b, random_state=0)\n",
        "theta1 = funcion_de_clasificacion2(x_train1_a, x_valid1_a, y_train1_a, y_valid1_a, x_train1_b, x_valid1_b, y_train1_b, y_valid1_b)\n",
        "\n",
        "print('-------------CLASE 2-----------------')\n",
        "\n",
        "x_train2_a, x_r_a, y_train2_a, y_r_a = train_test_split(df[\"alcohol\"], df['clase2'], test_size=0.33, random_state=0)\n",
        "x_valid2_a, x_test2_a, y_valid2_a, y_test2_a = train_test_split(x_r_a, y_r_a, random_state=0)\n",
        "x_train2_b, x_r_b, y_train2_b, y_r_b = train_test_split(df[\"flavanoids\"], df['clase2'], test_size=0.33, random_state=0)\n",
        "x_valid2_b, x_test2_b, y_valid2_b, y_test2_b = train_test_split(x_r_b, y_r_b, random_state=0)\n",
        "theta2 = funcion_de_clasificacion2(x_train2_a, x_valid2_a, y_train2_a, y_valid2_a,x_train2_b, x_valid2_b, y_train2_b, y_valid2_b)\n",
        "\n",
        "print('-------------CLASE 3-----------------')\n",
        "\n",
        "x_train3_a, x_r_a, y_train3_a, y_r_a= train_test_split(df[\"alcohol\"], df['clase3'], test_size=0.33, random_state=0)\n",
        "x_valid3_a, x_test3_a, y_valid3_a, y_test3_a = train_test_split(x_r_a, y_r_a, random_state=0)\n",
        "x_train3_b, x_r_b, y_train3_b, y_r_b = train_test_split(df[\"flavanoids\"], df['clase3'], test_size=0.33, random_state=0)\n",
        "x_valid3_b, x_test3_b, y_valid3_b, y_test2_b = train_test_split(x_r_b, y_r_b, random_state=0)\n",
        "theta3 = funcion_de_clasificacion2(x_train3_a, x_valid3_a, y_train3_a, y_valid3_a,x_train3_b, x_valid3_b, y_train3_b, y_valid3_b)"
      ],
      "metadata": {
        "colab": {
          "base_uri": "https://localhost:8080/"
        },
        "id": "8Hkt9wzRPJJ9",
        "outputId": "c9b5a4f8-f5f5-4681-a6b8-d7da170772da"
      },
      "execution_count": 18,
      "outputs": [
        {
          "output_type": "stream",
          "name": "stdout",
          "text": [
            "-------------CLASE 1-----------------\n",
            "theta inicial \n",
            " [2, 1, 0.5]\n",
            "J valid\n",
            " -0.2559041133292006\n",
            "J entrenamiento \n",
            " -0.14583081150000177\n",
            "theta \n",
            " [-4.528507542373424, -0.21803268506952203, 2.8885166171144476]\n",
            "-------------CLASE 2-----------------\n",
            "theta inicial \n",
            " [2, 1, 0.5]\n",
            "J valid\n",
            " -0.23246988550365183\n",
            "J entrenamiento \n",
            " -0.23931472790761904\n",
            "theta \n",
            " [10.12620338472708, -0.8724596301387089, 0.3356779855872073]\n",
            "-------------CLASE 3-----------------\n",
            "theta inicial \n",
            " [2, 1, 0.5]\n",
            "J valid\n",
            " -0.05334605881054341\n",
            "J entrenamiento \n",
            " -0.06825375423790696\n",
            "theta \n",
            " [0.4640553251763694, 0.5079804326666967, -5.73272743121643]\n"
          ]
        }
      ]
    },
    {
      "cell_type": "markdown",
      "source": [
        "### Subconjuntos para evaluación de predicciones"
      ],
      "metadata": {
        "id": "vE7pwM3viRO0"
      }
    },
    {
      "cell_type": "code",
      "source": [
        "# esto se usará para hacer la evaluación de las matrices de confusión haciendo de multicaso y no binario.\n",
        "x_train_multiclase, x_r_multiclase, y_train_multiclase, y_r_multiclase = train_test_split(df[\"alcohol\"], df['index'], test_size=0.33, random_state=0)\n",
        "x_valid_multiclase, x_test_multiclase, y_valid_multiclase, y_test_multiclase = train_test_split(x_r_multiclase, y_r_multiclase, random_state=0)"
      ],
      "metadata": {
        "id": "Gns9v4DMcPSh"
      },
      "execution_count": null,
      "outputs": []
    },
    {
      "cell_type": "markdown",
      "source": [
        "## Predicciones\n",
        "\n",
        "* Las variables maxValueIndex, toman la columna con el valor mayor de cada fila del dataframe formado por los arrays comparacion1, comparacion2 y comparacion3 (que toman el valor de las características y theta para la regresión logistica. \n",
        "\n",
        "* Este se usa para después hacer la matriz de confusión multicaso."
      ],
      "metadata": {
        "id": "uLIbEiHRGUht"
      }
    },
    {
      "cell_type": "code",
      "source": [
        "## ----------------------------ENTRENAMIENTO--------------------------------------------##\n",
        "\n",
        "comparacion1 = np.array(1/(1+np.exp(-(theta1[0]+theta1[1]*x_train1_a+theta1[2]*x_train1_b))))\n",
        "comparacion2 = np.array(1/(1+np.exp(-(theta2[0]+theta2[1]*x_train1_a+theta2[2]*x_train1_b))))\n",
        "comparacion3 = np.array(1/(1+np.exp(-(theta3[0]+theta3[1]*x_train1_a+theta3[2]*x_train1_b))))\n",
        "\n",
        "comparacion_train = {'1': comparacion1.transpose(),'2': comparacion2.transpose(),'3': comparacion3.transpose()}\n",
        "\n",
        "df2_train = pd.DataFrame(comparacion_train)\n",
        "\n",
        "maxValueIndex_train_1 = df2_train.idxmax(axis = 1).astype(int)\n",
        "print(maxValueIndex_train_1)\n",
        "\n",
        "## ----------------------------VALID--------------------------------------------##\n",
        "\n",
        "comparacion1 = np.array(1/(1+np.exp(-(theta1[0]+theta1[1]*x_valid1_a+theta1[2]*x_valid1_b))))\n",
        "comparacion2 = np.array(1/(1+np.exp(-(theta2[0]+theta2[1]*x_valid1_a+theta2[2]*x_valid1_b))))\n",
        "comparacion3 = np.array(1/(1+np.exp(-(theta3[0]+theta3[1]*x_valid1_a+theta3[2]*x_valid1_b))))\n",
        "\n",
        "comparacion_valid = {'1': comparacion1.transpose(),'2': comparacion2.transpose(),'3': comparacion3.transpose()}\n",
        "\n",
        "df2_valid = pd.DataFrame(comparacion_valid)\n",
        "\n",
        "maxValueIndex_valid_1 = df2_valid.idxmax(axis = 1).astype(int)\n",
        "print(maxValueIndex_valid_1)\n",
        "\n",
        "## ----------------------------TEST--------------------------------------------##\n",
        "\n",
        "comparacion1 = np.array(1/(1+np.exp(-(theta1[0]+theta1[1]*x_test1_a+theta1[2]*x_test1_b))))\n",
        "comparacion2 = np.array(1/(1+np.exp(-(theta2[0]+theta2[1]*x_test1_a+theta2[2]*x_test1_b))))\n",
        "comparacion3 = np.array(1/(1+np.exp(-(theta3[0]+theta3[1]*x_test1_a+theta3[2]*x_test1_b))))\n",
        "\n",
        "comparacion_test = {'1': comparacion1.transpose(),'2': comparacion2.transpose(),'3': comparacion3.transpose()}\n",
        "\n",
        "df2_test = pd.DataFrame(comparacion_test)\n",
        "\n",
        "maxValueIndex_test_1 = df2_test.idxmax(axis = 1).astype(int)\n",
        "print(maxValueIndex_test_1)"
      ],
      "metadata": {
        "id": "qykv0vYvMYMA"
      },
      "execution_count": null,
      "outputs": []
    },
    {
      "cell_type": "markdown",
      "source": [
        "### Visualización de predicciones (conjunto de prueba) para README.md"
      ],
      "metadata": {
        "id": "uOSYOrkutQ9A"
      }
    },
    {
      "cell_type": "code",
      "source": [
        "visualizacion_predicciones = pd.concat([pd.DataFrame(np.asarray(y_test_multiclase)), \n",
        "                                        pd.DataFrame(np.asarray(maxValueIndex_test_1)),\n",
        "                                        pd.DataFrame(np.asarray(x_test1_a)),\n",
        "                                        pd.DataFrame(np.asarray(x_test1_b)),\n",
        "                                        df2_test], \n",
        "                                       axis=1)\n",
        "visualizacion_predicciones.columns = [\"Real\",\"Prediccion\",\"alcohol\",\"flavanoids\",\"1\",\"2\",\"3\"]"
      ],
      "metadata": {
        "id": "0kSjiZyvu1a9"
      },
      "execution_count": 34,
      "outputs": []
    },
    {
      "cell_type": "code",
      "source": [
        "print(visualizacion_predicciones.to_markdown())"
      ],
      "metadata": {
        "id": "LUZyXWYIdo0A"
      },
      "execution_count": null,
      "outputs": []
    },
    {
      "cell_type": "markdown",
      "source": [
        "## Matrices de confusión"
      ],
      "metadata": {
        "id": "4HLzzyegJ-dy"
      }
    },
    {
      "cell_type": "markdown",
      "source": [
        "### Construccion de matriz de confusión\n",
        "\n",
        "Se obtiene usando sklearn.metrics.confusion_matrix"
      ],
      "metadata": {
        "id": "Z0V3jdEWi56S"
      }
    },
    {
      "cell_type": "code",
      "source": [
        "cf_train = confusion_matrix(y_train_multiclase, maxValueIndex_train_1)\n",
        "cf_valid = confusion_matrix(y_valid_multiclase, maxValueIndex_valid_1)\n",
        "cf_test = confusion_matrix(y_test_multiclase,maxValueIndex_test_1)"
      ],
      "metadata": {
        "id": "uTUMOkevKSvk"
      },
      "execution_count": 36,
      "outputs": []
    },
    {
      "cell_type": "markdown",
      "source": [
        "### Visualización de matrices de confusión para subconjuntos de entrenamiento, validación y prueba"
      ],
      "metadata": {
        "id": "mPjM9XUajub6"
      }
    },
    {
      "cell_type": "code",
      "source": [
        "# para que las columnas y filas vayan de 1 a 3 y no 0 a 2\n",
        "df_cf_train = pd.DataFrame(cf_train, index = [1, 2, 3],\n",
        "                  columns = [1, 2, 3])\n",
        "df_cf_valid = pd.DataFrame(cf_valid, index = [1, 2, 3],\n",
        "                  columns = [1, 2, 3])\n",
        "df_cf_test = pd.DataFrame(cf_valid, index = [1, 2, 3],\n",
        "                  columns = [1, 2, 3])\n",
        "\n",
        "group_names = [\"Correcto\",\"Incorrecto\",\"Incorrecto\",\"Incorrecto\",\"Correcto\",\"Incorrecto\",\"Incorrecto\",\"Incorrecto\",\"Correcto\"]\n",
        "group_counts = [\"{0:0.0f}\".format(value) for value in\n",
        "                cf_train.flatten()]\n",
        "group_percentages = [\"{0:.2%}\".format(value) for value in\n",
        "                     cf_train.flatten()/np.sum(cf_train)]\n",
        "labels = [f\"{v1}\\n{v2}\\n{v3}\" for v1, v2, v3 in\n",
        "          zip(group_names,group_counts,group_percentages)]\n",
        "\n",
        "labels = np.asarray(labels).reshape(3,3)\n",
        "sns.heatmap(df_cf_train,annot=labels, fmt=\"\", cmap='Blues')\n",
        "plt.title(\"Matriz de confusión para subconjunto de entrenamiento\")\n",
        "plt.savefig('cf_train.png') \n",
        "files.download(\"cf_train.png\")\n",
        "plt.show()\n",
        "\n",
        "group_names = [\"Correcto\",\"Incorrecto\",\"Incorrecto\",\"Incorrecto\",\"Correcto\",\"Incorrecto\",\"Incorrecto\",\"Incorrecto\",\"Correcto\"]\n",
        "group_counts = [\"{0:0.0f}\".format(value) for value in\n",
        "                cf_valid.flatten()]\n",
        "group_percentages = [\"{0:.2%}\".format(value) for value in\n",
        "                     cf_valid.flatten()/np.sum(cf_train)]\n",
        "labels = [f\"{v1}\\n{v2}\\n{v3}\" for v1, v2, v3 in\n",
        "          zip(group_names,group_counts,group_percentages)]\n",
        "\n",
        "labels = np.asarray(labels).reshape(3,3)\n",
        "sns.heatmap(df_cf_valid,annot=labels, fmt=\"\", cmap='Blues')\n",
        "plt.title(\"Matriz de confusión para subconjunto de validación\")\n",
        "plt.savefig('cf_valid.png') \n",
        "files.download(\"cf_valid.png\")\n",
        "plt.show()\n",
        "\n",
        "group_names = [\"Correcto\",\"Incorrecto\",\"Incorrecto\",\"Incorrecto\",\"Correcto\",\"Incorrecto\",\"Incorrecto\",\"Incorrecto\",\"Correcto\"]\n",
        "group_counts = [\"{0:0.0f}\".format(value) for value in\n",
        "                cf_test.flatten()]\n",
        "group_percentages = [\"{0:.2%}\".format(value) for value in\n",
        "                     cf_test.flatten()/np.sum(cf_train)]\n",
        "labels = [f\"{v1}\\n{v2}\\n{v3}\" for v1, v2, v3 in\n",
        "          zip(group_names,group_counts,group_percentages)]\n",
        "\n",
        "labels = np.asarray(labels).reshape(3,3)\n",
        "sns.heatmap(df_cf_test,annot=labels, fmt=\"\", cmap='Blues')\n",
        "plt.title(\"Matriz de confusión para subconjunto de prueba\")\n",
        "plt.savefig('cf_test.png') \n",
        "files.download(\"cf_test.png\")\n",
        "plt.show()"
      ],
      "metadata": {
        "colab": {
          "base_uri": "https://localhost:8080/",
          "height": 809
        },
        "id": "XoD_wxpDgs0r",
        "outputId": "c2b9d714-0a5b-4d86-a32e-fce281dcd3b9"
      },
      "execution_count": 37,
      "outputs": [
        {
          "output_type": "display_data",
          "data": {
            "text/plain": [
              "<IPython.core.display.Javascript object>"
            ],
            "application/javascript": [
              "\n",
              "    async function download(id, filename, size) {\n",
              "      if (!google.colab.kernel.accessAllowed) {\n",
              "        return;\n",
              "      }\n",
              "      const div = document.createElement('div');\n",
              "      const label = document.createElement('label');\n",
              "      label.textContent = `Downloading \"${filename}\": `;\n",
              "      div.appendChild(label);\n",
              "      const progress = document.createElement('progress');\n",
              "      progress.max = size;\n",
              "      div.appendChild(progress);\n",
              "      document.body.appendChild(div);\n",
              "\n",
              "      const buffers = [];\n",
              "      let downloaded = 0;\n",
              "\n",
              "      const channel = await google.colab.kernel.comms.open(id);\n",
              "      // Send a message to notify the kernel that we're ready.\n",
              "      channel.send({})\n",
              "\n",
              "      for await (const message of channel.messages) {\n",
              "        // Send a message to notify the kernel that we're ready.\n",
              "        channel.send({})\n",
              "        if (message.buffers) {\n",
              "          for (const buffer of message.buffers) {\n",
              "            buffers.push(buffer);\n",
              "            downloaded += buffer.byteLength;\n",
              "            progress.value = downloaded;\n",
              "          }\n",
              "        }\n",
              "      }\n",
              "      const blob = new Blob(buffers, {type: 'application/binary'});\n",
              "      const a = document.createElement('a');\n",
              "      a.href = window.URL.createObjectURL(blob);\n",
              "      a.download = filename;\n",
              "      div.appendChild(a);\n",
              "      a.click();\n",
              "      div.remove();\n",
              "    }\n",
              "  "
            ]
          },
          "metadata": {}
        },
        {
          "output_type": "display_data",
          "data": {
            "text/plain": [
              "<IPython.core.display.Javascript object>"
            ],
            "application/javascript": [
              "download(\"download_96010901-734b-4a1f-836c-b4aa467884ca\", \"cf_train.png\", 24204)"
            ]
          },
          "metadata": {}
        },
        {
          "output_type": "display_data",
          "data": {
            "text/plain": [
              "<Figure size 432x288 with 2 Axes>"
            ],
            "image/png": "[encoded data removed]"
          },
          "metadata": {
            "needs_background": "light"
          }
        },
        {
          "output_type": "display_data",
          "data": {
            "text/plain": [
              "<IPython.core.display.Javascript object>"
            ],
            "application/javascript": [
              "\n",
              "    async function download(id, filename, size) {\n",
              "      if (!google.colab.kernel.accessAllowed) {\n",
              "        return;\n",
              "      }\n",
              "      const div = document.createElement('div');\n",
              "      const label = document.createElement('label');\n",
              "      label.textContent = `Downloading \"${filename}\": `;\n",
              "      div.appendChild(label);\n",
              "      const progress = document.createElement('progress');\n",
              "      progress.max = size;\n",
              "      div.appendChild(progress);\n",
              "      document.body.appendChild(div);\n",
              "\n",
              "      const buffers = [];\n",
              "      let downloaded = 0;\n",
              "\n",
              "      const channel = await google.colab.kernel.comms.open(id);\n",
              "      // Send a message to notify the kernel that we're ready.\n",
              "      channel.send({})\n",
              "\n",
              "      for await (const message of channel.messages) {\n",
              "        // Send a message to notify the kernel that we're ready.\n",
              "        channel.send({})\n",
              "        if (message.buffers) {\n",
              "          for (const buffer of message.buffers) {\n",
              "            buffers.push(buffer);\n",
              "            downloaded += buffer.byteLength;\n",
              "            progress.value = downloaded;\n",
              "          }\n",
              "        }\n",
              "      }\n",
              "      const blob = new Blob(buffers, {type: 'application/binary'});\n",
              "      const a = document.createElement('a');\n",
              "      a.href = window.URL.createObjectURL(blob);\n",
              "      a.download = filename;\n",
              "      div.appendChild(a);\n",
              "      a.click();\n",
              "      div.remove();\n",
              "    }\n",
              "  "
            ]
          },
          "metadata": {}
        },
        {
          "output_type": "display_data",
          "data": {
            "text/plain": [
              "<IPython.core.display.Javascript object>"
            ],
            "application/javascript": [
              "download(\"download_f822de71-6531-4bce-b49a-1999dc4f3fa0\", \"cf_valid.png\", 21358)"
            ]
          },
          "metadata": {}
        },
        {
          "output_type": "display_data",
          "data": {
            "text/plain": [
              "<Figure size 432x288 with 2 Axes>"
            ],
            "image/png": "[encoded data removed]"
          },
          "metadata": {
            "needs_background": "light"
          }
        },
        {
          "output_type": "display_data",
          "data": {
            "text/plain": [
              "<IPython.core.display.Javascript object>"
            ],
            "application/javascript": [
              "\n",
              "    async function download(id, filename, size) {\n",
              "      if (!google.colab.kernel.accessAllowed) {\n",
              "        return;\n",
              "      }\n",
              "      const div = document.createElement('div');\n",
              "      const label = document.createElement('label');\n",
              "      label.textContent = `Downloading \"${filename}\": `;\n",
              "      div.appendChild(label);\n",
              "      const progress = document.createElement('progress');\n",
              "      progress.max = size;\n",
              "      div.appendChild(progress);\n",
              "      document.body.appendChild(div);\n",
              "\n",
              "      const buffers = [];\n",
              "      let downloaded = 0;\n",
              "\n",
              "      const channel = await google.colab.kernel.comms.open(id);\n",
              "      // Send a message to notify the kernel that we're ready.\n",
              "      channel.send({})\n",
              "\n",
              "      for await (const message of channel.messages) {\n",
              "        // Send a message to notify the kernel that we're ready.\n",
              "        channel.send({})\n",
              "        if (message.buffers) {\n",
              "          for (const buffer of message.buffers) {\n",
              "            buffers.push(buffer);\n",
              "            downloaded += buffer.byteLength;\n",
              "            progress.value = downloaded;\n",
              "          }\n",
              "        }\n",
              "      }\n",
              "      const blob = new Blob(buffers, {type: 'application/binary'});\n",
              "      const a = document.createElement('a');\n",
              "      a.href = window.URL.createObjectURL(blob);\n",
              "      a.download = filename;\n",
              "      div.appendChild(a);\n",
              "      a.click();\n",
              "      div.remove();\n",
              "    }\n",
              "  "
            ]
          },
          "metadata": {}
        },
        {
          "output_type": "display_data",
          "data": {
            "text/plain": [
              "<IPython.core.display.Javascript object>"
            ],
            "application/javascript": [
              "download(\"download_a3b97e40-83b2-4c58-8492-ea79b2d867d7\", \"cf_test.png\", 20867)"
            ]
          },
          "metadata": {}
        },
        {
          "output_type": "display_data",
          "data": {
            "text/plain": [
              "<Figure size 432x288 with 2 Axes>"
            ],
            "image/png": "[encoded data removed]"
          },
          "metadata": {
            "needs_background": "light"
          }
        }
      ]
    }
  ],
  "metadata": {
    "colab": {
      "collapsed_sections": [],
      "provenance": [],
      "authorship_tag": "ABX9TyNukKhuuARtIjLbPc2+eMRV",
      "include_colab_link": true
    },
    "kernelspec": {
      "display_name": "Python 3",
      "name": "python3"
    },
    "language_info": {
      "name": "python"
    }
  },
  "nbformat": 4,
  "nbformat_minor": 0
}